{
  "nbformat": 4,
  "nbformat_minor": 0,
  "metadata": {
    "colab": {
      "provenance": [],
      "authorship_tag": "ABX9TyNS//D1yikzaxcBdYF8NuoV",
      "include_colab_link": true
    },
    "kernelspec": {
      "name": "python3",
      "display_name": "Python 3"
    },
    "language_info": {
      "name": "python"
    }
  },
  "cells": [
    {
      "cell_type": "markdown",
      "metadata": {
        "id": "view-in-github",
        "colab_type": "text"
      },
      "source": [
        "<a href=\"https://colab.research.google.com/github/rcleveng/notebooks/blob/main/Simple_Langchain_EL_and_Google_GenAI.ipynb\" target=\"_parent\"><img src=\"https://colab.research.google.com/assets/colab-badge.svg\" alt=\"Open In Colab\"/></a>"
      ]
    },
    {
      "cell_type": "markdown",
      "source": [
        "Simple langchain example using Google's Generate AI API.\n",
        "\n",
        "You'll need an API key from Generative AI Studio.\n"
      ],
      "metadata": {
        "id": "2Y7r3isO2tpz"
      }
    },
    {
      "cell_type": "markdown",
      "source": [
        "Fist we install dependencies to use langserv."
      ],
      "metadata": {
        "id": "a6qxLwH_ETzz"
      }
    },
    {
      "cell_type": "code",
      "execution_count": 23,
      "metadata": {
        "id": "4AVlTEDo1lD2"
      },
      "outputs": [],
      "source": [
        "!pip install langchain langchain-cli \"langserve[all]\" google.generativeai | grep -v 'already satisfied' && echo \"Installed dependencies\"\n"
      ]
    },
    {
      "cell_type": "code",
      "source": [
        "from google.colab import userdata\n",
        "from langchain.chains import ConversationalRetrievalChain\n",
        "from langchain.chat_models import google_palm\n",
        "from langchain.chat_models import ChatGooglePalm\n",
        "from langchain_core.prompts import ChatPromptTemplate\n",
        "from langchain_core.prompts import MessagesPlaceholder\n",
        "\n",
        "# Get the key from https://makersuite.google.com\n",
        "# Add your PALM_KEY as a secret to colab.\n",
        "\n",
        "google_api_key = userdata.get('PALM_KEY')\n",
        "\n",
        "model = ChatGooglePalm(google_api_key=google_api_key)\n",
        "\n",
        "SIMPLE_TEMPLATE=\"\"\"\n",
        "You are a helpful bot.\n",
        "Answer to the question to the best of your ability.\n",
        "If you do not know an answer state so.\n",
        "\n",
        "Question: {question}\n",
        "\"\"\"\n",
        "\n",
        "question = \"why is the sky blue?\"\n",
        "\n",
        "prompt = ChatPromptTemplate.from_template(SIMPLE_TEMPLATE)\n",
        "\n",
        "chain = (\n",
        "    prompt\n",
        "    | model\n",
        ")\n",
        "\n",
        "d = {\"question\": question}\n",
        "response = chain.invoke(d)\n",
        "print(response.content)"
      ],
      "metadata": {
        "colab": {
          "base_uri": "https://localhost:8080/",
          "height": 91
        },
        "id": "vrkmNlO92EUD",
        "outputId": "bc3503df-b05d-4336-a4fd-6afca5b32c35"
      },
      "execution_count": 27,
      "outputs": [
        {
          "output_type": "stream",
          "name": "stdout",
          "text": [
            "The sky is blue because of a phenomenon called Raleigh scattering. This scattering refers to the scattering of electromagnetic radiation (of which light is a form) by particles of a much smaller wavelength. Sunlight is scattered by the tiny molecules of air in Earth's atmosphere. Blue light is scattered more than the other colors because it travels as shorter, smaller waves. This is why we see a blue sky most of the time.\r\n",
            "\r\n",
            "The sky can also appear other colors, such as red, orange, and yellow, during sunrise and sunset. This is because the sunlight has to travel through more of the atmosphere to reach our eyes at these times. The longer journey through the atmosphere allows for more of the blue light to be scattered away, leaving behind the warmer colors.\n"
          ]
        }
      ]
    }
  ]
}