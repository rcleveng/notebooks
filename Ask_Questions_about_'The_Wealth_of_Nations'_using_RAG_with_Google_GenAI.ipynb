{
  "nbformat": 4,
  "nbformat_minor": 0,
  "metadata": {
    "colab": {
      "provenance": [],
      "authorship_tag": "ABX9TyOpT/SPsOXJiwrXUaZ4jIwd",
      "include_colab_link": true
    },
    "kernelspec": {
      "name": "python3",
      "display_name": "Python 3"
    },
    "language_info": {
      "name": "python"
    }
  },
  "cells": [
    {
      "cell_type": "markdown",
      "metadata": {
        "id": "view-in-github",
        "colab_type": "text"
      },
      "source": [
        "<a href=\"https://colab.research.google.com/github/rcleveng/notebooks/blob/main/Ask_Questions_about_'The_Wealth_of_Nations'_using_RAG_with_Google_GenAI.ipynb\" target=\"_parent\"><img src=\"https://colab.research.google.com/assets/colab-badge.svg\" alt=\"Open In Colab\"/></a>"
      ]
    },
    {
      "cell_type": "markdown",
      "source": [
        "Simple RAG langchain example using Google's Generate AI API.\n",
        "\n",
        "You'll need an API key from Generative AI Studio.\n"
      ],
      "metadata": {
        "id": "2Y7r3isO2tpz"
      }
    },
    {
      "cell_type": "code",
      "execution_count": null,
      "metadata": {
        "id": "4AVlTEDo1lD2"
      },
      "outputs": [],
      "source": [
        "!pip install kaleido python-multipart tensorflow-probability fastapi uvicorn milvus[client] pymilvus langchain langchain-cli \"langserve[all]\" google.generativeai langchain-google-genai\n"
      ]
    },
    {
      "cell_type": "markdown",
      "source": [
        "Restart the kernel once dependencies are updated"
      ],
      "metadata": {
        "id": "LFDEmAZJqav1"
      }
    },
    {
      "cell_type": "code",
      "source": [
        "quit()"
      ],
      "metadata": {
        "id": "eju7mBv_qbRa"
      },
      "execution_count": 4,
      "outputs": []
    },
    {
      "cell_type": "markdown",
      "source": [
        "Start Milvus vector database"
      ],
      "metadata": {
        "id": "I3VeMwXgqbqN"
      }
    },
    {
      "cell_type": "code",
      "source": [
        "import pyarrow\n",
        "print(pyarrow.__version__)\n",
        "\n",
        "import pymilvus\n",
        "from pymilvus import (\n",
        "    connections,\n",
        "    utility,\n",
        "    FieldSchema,\n",
        "    CollectionSchema,\n",
        "    DataType,\n",
        "    Collection,\n",
        ")\n",
        "print(\"Using pymilvus version: \", pymilvus.__version__)\n",
        "\n",
        "from milvus import default_server, debug_server\n",
        "\n",
        "# Cleanup anything from the default server\n",
        "if default_server.running:\n",
        "  print(\"stopping the default server\")\n",
        "  default_server.stop()\n",
        "print(\"Cleaning up old files from the default server\")\n",
        "default_server.cleanup()\n",
        "\n",
        "# Cleanup anything from the debug server\n",
        "if debug_server.running:\n",
        "  print(\"stopping the debug server\")\n",
        "  debug_server.stop()\n",
        "  connections.disconnect('default')\n",
        "print(\"Cleaning up old files from the debug server\")\n",
        "debug_server.cleanup()\n",
        "\n",
        "# Start your milvus debug server\n",
        "print(\"Starting the debug server\")\n",
        "debug_server.start()\n",
        "\n",
        "# Now you could connect with localhost and the given port\n",
        "# Port is defined by default_server.listen_port\n",
        "try:\n",
        " connections.connect(host='127.0.0.1', port=debug_server.listen_port)\n",
        "except Exception as e:\n",
        "  print(e)\n",
        "print(\"Connections: \", connections.list_connections())\n",
        "\n",
        "# Check if the server is ready.\n",
        "print(\"Started milvus server version \", utility.get_server_version())\n",
        "\n"
      ],
      "metadata": {
        "colab": {
          "base_uri": "https://localhost:8080/"
        },
        "id": "MTQDR5j1lk1Z",
        "outputId": "45502dc1-7afa-4660-f0f1-226cf88dbf24"
      },
      "execution_count": 2,
      "outputs": [
        {
          "output_type": "stream",
          "name": "stdout",
          "text": [
            "14.0.2\n",
            "Using pymilvus version:  2.3.5\n",
            "Cleaning up old files from the default server\n",
            "Cleaning up old files from the debug server\n",
            "Starting the debug server\n"
          ]
        },
        {
          "output_type": "stream",
          "name": "stderr",
          "text": [
            "2024-01-20 23:02:46,199 [INFO] __init__.py:386: Milvus server is started\n"
          ]
        },
        {
          "output_type": "stream",
          "name": "stdout",
          "text": [
            "Connections:  [('default', <pymilvus.client.grpc_handler.GrpcHandler object at 0x7c6de32c4a00>)]\n",
            "Started milvus server version  v2.3.5-lite\n"
          ]
        }
      ]
    },
    {
      "cell_type": "code",
      "source": [
        "BOOK_URL=\"https://www.gutenberg.org/cache/epub/3300/pg3300.txt\"\n",
        "\n"
      ],
      "metadata": {
        "id": "bLb55wTgtRe5"
      },
      "execution_count": 5,
      "outputs": []
    },
    {
      "cell_type": "code",
      "source": [
        "\n",
        "import requests\n",
        "from google.colab import userdata\n",
        "\n",
        "from langchain.text_splitter import RecursiveCharacterTextSplitter\n",
        "from langchain.chat_models import ChatGooglePalm\n",
        "from langchain.embeddings import GooglePalmEmbeddings\n",
        "from langchain.llms import GooglePalm\n",
        "from langchain.chains import RetrievalQA\n",
        "from langchain.schema import Document\n",
        "\n",
        "# Get the key from https://makersuite.google.com\n",
        "# Add your PALM_KEY as a secret to colab.\n",
        "\n",
        "google_api_key = userdata.get('PALM_KEY')\n",
        "\n",
        "# Get text from URL\n",
        "def get_data(url):\n",
        " r = requests.get(url)\n",
        " return r.text\n",
        "\n",
        "BOOK_TEXT = get_data(BOOK_URL)\n",
        "\n",
        "\n",
        "doc =  Document(page_content=BOOK_TEXT, metadata={\"source\": \"local\"})\n",
        "\n",
        "text_splitter = RecursiveCharacterTextSplitter (chunk_size=1000, chunk_overlap=200)\n",
        "texts = text_splitter.split_documents([doc])\n",
        "\n",
        "\n",
        "# Count the number of chunks\n",
        "print ('loaded chunks: ', len(texts))\n"
      ],
      "metadata": {
        "colab": {
          "base_uri": "https://localhost:8080/"
        },
        "id": "x_TI1UC50YaZ",
        "outputId": "70df8cf5-7ec1-4e2e-c5fc-8e479d809a67"
      },
      "execution_count": 6,
      "outputs": [
        {
          "output_type": "stream",
          "name": "stdout",
          "text": [
            "loaded chunks:  3102\n"
          ]
        }
      ]
    },
    {
      "cell_type": "code",
      "source": [
        "# Create collection\n",
        "\n",
        "from langchain.embeddings import GooglePalmEmbeddings\n",
        "from langchain.llms import GooglePalm\n",
        "from langchain_google_genai import GoogleGenerativeAI\n",
        "from langchain.vectorstores import Milvus\n",
        "\n",
        "\n",
        "embeddings = GooglePalmEmbeddings(google_api_key=google_api_key)\n",
        "llm = GooglePalm(google_api_key=google_api_key)\n",
        "\n",
        "# use\n",
        "vector_db = Milvus.from_documents(\n",
        "   texts,\n",
        "   embeddings,\n",
        "   connection_args={\"host\": \"127.0.0.1\", \"port\": default_server.listen_port},\n",
        ")\n",
        "qa = RetrievalQA.from_chain_type(llm=llm, chain_type=\"stuff\", retriever=vector_db.as_retriever())\n"
      ],
      "metadata": {
        "id": "pkCZxew-3Gav"
      },
      "execution_count": null,
      "outputs": []
    },
    {
      "cell_type": "code",
      "source": [
        "# Ask question\n",
        "query = \"\"\"\n",
        "\n",
        "How was the productive power of labor most increased?\n",
        "\n",
        "\"\"\"\n",
        "\n",
        "qa.run(query)"
      ],
      "metadata": {
        "colab": {
          "base_uri": "https://localhost:8080/",
          "height": 35
        },
        "id": "3sSzi99SAwMm",
        "outputId": "160f7a0b-19d0-4305-8462-9853cf440aad"
      },
      "execution_count": 17,
      "outputs": [
        {
          "output_type": "execute_result",
          "data": {
            "text/plain": [
              "'the division of labor'"
            ],
            "application/vnd.google.colaboratory.intrinsic+json": {
              "type": "string"
            }
          },
          "metadata": {},
          "execution_count": 17
        }
      ]
    },
    {
      "cell_type": "code",
      "source": [
        "# Stop your milvus server\n",
        "default_server.stop()"
      ],
      "metadata": {
        "id": "tNoGf0GBlrj5"
      },
      "execution_count": null,
      "outputs": []
    }
  ]
}