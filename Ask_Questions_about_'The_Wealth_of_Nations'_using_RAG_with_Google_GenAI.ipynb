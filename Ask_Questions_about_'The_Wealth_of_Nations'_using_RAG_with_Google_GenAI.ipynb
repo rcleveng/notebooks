{
  "nbformat": 4,
  "nbformat_minor": 0,
  "metadata": {
    "colab": {
      "provenance": [],
      "authorship_tag": "ABX9TyPShS+dfN41gVO0AFKLm2vs",
      "include_colab_link": true
    },
    "kernelspec": {
      "name": "python3",
      "display_name": "Python 3"
    },
    "language_info": {
      "name": "python"
    }
  },
  "cells": [
    {
      "cell_type": "markdown",
      "metadata": {
        "id": "view-in-github",
        "colab_type": "text"
      },
      "source": [
        "<a href=\"https://colab.research.google.com/github/rcleveng/notebooks/blob/main/Ask_Questions_about_'The_Wealth_of_Nations'_using_RAG_with_Google_GenAI.ipynb\" target=\"_parent\"><img src=\"https://colab.research.google.com/assets/colab-badge.svg\" alt=\"Open In Colab\"/></a>"
      ]
    },
    {
      "cell_type": "markdown",
      "source": [
        "Simple RAG langchain example using Google's Generate AI API.\n",
        "This example let's you ask questions against a book.\n",
        "\n",
        "You'll need an API key from Generative AI Studio.\n"
      ],
      "metadata": {
        "id": "2Y7r3isO2tpz"
      }
    },
    {
      "cell_type": "code",
      "execution_count": null,
      "metadata": {
        "id": "4AVlTEDo1lD2"
      },
      "outputs": [],
      "source": [
        "!pip install kaleido python-multipart tensorflow-probability fastapi uvicorn milvus[client] pymilvus langchain langchain-cli \"langserve[all]\" google.generativeai langchain-google-genai\n"
      ]
    },
    {
      "cell_type": "markdown",
      "source": [
        "Restart the kernel once dependencies are updated"
      ],
      "metadata": {
        "id": "LFDEmAZJqav1"
      }
    },
    {
      "cell_type": "code",
      "source": [
        "quit()"
      ],
      "metadata": {
        "id": "eju7mBv_qbRa"
      },
      "execution_count": 18,
      "outputs": []
    },
    {
      "cell_type": "markdown",
      "source": [
        "Start Milvus vector database that is used for holding the vectors."
      ],
      "metadata": {
        "id": "I3VeMwXgqbqN"
      }
    },
    {
      "cell_type": "code",
      "source": [
        "import pyarrow\n",
        "print(pyarrow.__version__)\n",
        "\n",
        "import pymilvus\n",
        "from pymilvus import (\n",
        "    connections,\n",
        "    utility,\n",
        "    FieldSchema,\n",
        "    CollectionSchema,\n",
        "    DataType,\n",
        "    Collection,\n",
        ")\n",
        "print(\"Using pymilvus version: \", pymilvus.__version__)\n",
        "\n",
        "from milvus import default_server, debug_server\n",
        "\n",
        "# Cleanup anything from the default server\n",
        "if default_server.running:\n",
        "  print(\"stopping the default server\")\n",
        "  default_server.stop()\n",
        "print(\"Cleaning up old files from the default server\")\n",
        "default_server.cleanup()\n",
        "\n",
        "# Cleanup anything from the debug server\n",
        "if debug_server.running:\n",
        "  print(\"stopping the debug server\")\n",
        "  debug_server.stop()\n",
        "  connections.disconnect('default')\n",
        "print(\"Cleaning up old files from the debug server\")\n",
        "debug_server.cleanup()\n",
        "\n",
        "# Start your milvus debug server\n",
        "print(\"Starting the debug server\")\n",
        "debug_server.start()\n",
        "\n",
        "# Now you could connect with localhost and the given port\n",
        "# Port is defined by default_server.listen_port\n",
        "try:\n",
        " connections.connect(host='127.0.0.1', port=debug_server.listen_port)\n",
        "except Exception as e:\n",
        "  print(e)\n",
        "print(\"Connections: \", connections.list_connections())\n",
        "\n",
        "# Check if the server is ready.\n",
        "print(\"Started milvus server version \", utility.get_server_version())\n",
        "\n"
      ],
      "metadata": {
        "id": "MTQDR5j1lk1Z"
      },
      "execution_count": null,
      "outputs": []
    },
    {
      "cell_type": "code",
      "source": [
        "# @title Set the book URL to use for Q&A\n",
        "\n",
        "# Change this to use a different book.\n",
        "BOOK_URL=\"https://www.gutenberg.org/cache/epub/3300/pg3300.txt\" #@param {type:\"string\"}"
      ],
      "metadata": {
        "id": "bLb55wTgtRe5"
      },
      "execution_count": 3,
      "outputs": []
    },
    {
      "cell_type": "code",
      "source": [
        "# @title Fetch and split URL into chunks\n",
        "\n",
        "import requests\n",
        "from google.colab import userdata\n",
        "\n",
        "from langchain.text_splitter import RecursiveCharacterTextSplitter\n",
        "from langchain.chains import RetrievalQA\n",
        "from langchain.schema import Document\n",
        "\n",
        "# Get the key from https://makersuite.google.com\n",
        "# Add your PALM_KEY as a secret to colab.\n",
        "\n",
        "google_api_key = userdata.get('PALM_KEY')\n",
        "\n",
        "# Get text from URL\n",
        "def get_data(url):\n",
        " r = requests.get(url)\n",
        " return r.text\n",
        "\n",
        "BOOK_TEXT = get_data(BOOK_URL)\n",
        "doc =  Document(page_content=BOOK_TEXT, metadata={\"source\": \"local\"})\n",
        "text_splitter = RecursiveCharacterTextSplitter (chunk_size=1000, chunk_overlap=200)\n",
        "texts = text_splitter.split_documents([doc])\n",
        "\n",
        "# Count the number of chunks\n",
        "print ('Finished splitting document into ', len(texts), 'chunks.')\n"
      ],
      "metadata": {
        "colab": {
          "base_uri": "https://localhost:8080/"
        },
        "id": "x_TI1UC50YaZ",
        "outputId": "0c64d10e-b466-4721-ecd5-5e61c9ade8ce"
      },
      "execution_count": 4,
      "outputs": [
        {
          "output_type": "stream",
          "name": "stdout",
          "text": [
            "Finished loaded chunks:  3102 total.\n"
          ]
        }
      ]
    },
    {
      "cell_type": "code",
      "source": [
        "# @title Load chunks into vector database\n",
        "\n",
        "from langchain_google_genai import GoogleGenerativeAIEmbeddings\n",
        "from langchain_google_genai import GoogleGenerativeAI\n",
        "from langchain.vectorstores import Milvus\n",
        "\n",
        "\n",
        "# Create collection\n",
        "\n",
        "embeddings = GoogleGenerativeAIEmbeddings(model=\"models/embedding-001\", google_api_key=google_api_key, task_type=\"retrieval_document\")\n",
        "\n",
        "\n",
        "vector_db = Milvus.from_documents(\n",
        "   texts,\n",
        "   embeddings,\n",
        "   connection_args={\"host\": \"127.0.0.1\", \"port\": default_server.listen_port},\n",
        ")\n"
      ],
      "metadata": {
        "id": "pkCZxew-3Gav"
      },
      "execution_count": 5,
      "outputs": []
    },
    {
      "cell_type": "code",
      "source": [
        "# @title Ask Questions on The Wealth of Nations\n",
        "\n",
        "# Create the retriever\n",
        "from langchain.globals import (\n",
        "    set_debug,\n",
        "    set_verbose\n",
        ")\n",
        "\n",
        "debug_enabled = False #@param {type:\"boolean\"}\n",
        "verbose_enabled = True #@param {type:\"boolean\"}\n",
        "set_debug(debug_enabled)\n",
        "set_verbose(verbose_enabled)\n",
        "\n",
        "model_name = \"models/text-bison-001\" # @param [\"gemini-pro\", \"models/text-bison-001\"] {allow-input: false}\n",
        "\n",
        "llm = GoogleGenerativeAI(model=model_name, google_api_key=google_api_key)\n",
        "qa = RetrievalQA.from_chain_type(llm=llm, chain_type=\"stuff\", retriever=vector_db.as_retriever())\n",
        "\n",
        "# Ask question\n",
        "query = \"What are the benefits of specialization and the division of labor?\" #@param {type:\"string\"}\n",
        "\n",
        "qa.invoke({\"query\": query})"
      ],
      "metadata": {
        "colab": {
          "base_uri": "https://localhost:8080/"
        },
        "id": "3sSzi99SAwMm",
        "outputId": "552a5400-67db-4add-e622-00fd53733578"
      },
      "execution_count": 25,
      "outputs": [
        {
          "output_type": "stream",
          "name": "stdout",
          "text": [
            "\n",
            "\n",
            "\u001b[1m> Entering new RetrievalQA chain...\u001b[0m\n",
            "\n",
            "\n",
            "\u001b[1m> Entering new StuffDocumentsChain chain...\u001b[0m\n",
            "\n",
            "\n",
            "\u001b[1m> Entering new LLMChain chain...\u001b[0m\n",
            "Prompt after formatting:\n",
            "\u001b[32;1m\u001b[1;3mUse the following pieces of context to answer the question at the end. If you don't know the answer, just say that you don't know, don't try to make up an answer.\n",
            "\n",
            "or class of philosophers; and this subdivision of employment in\n",
            "      philosophy, as well as in every other business, improves dexterity, and\n",
            "      saves time. Each individual becomes more expert in his own peculiar\n",
            "      branch, more work is done upon the whole, and the quantity of science is\n",
            "      considerably increased by it.\n",
            "    \n",
            "      It is the great multiplication of the productions of all the different\n",
            "      arts, in consequence of the division of labour, which occasions, in a\n",
            "      well-governed society, that universal opulence which extends itself to the\n",
            "      lowest ranks of the people. Every workman has a great quantity of his own\n",
            "      work to dispose of beyond what he himself has occasion for; and every\n",
            "      other workman being exactly in the same situation, he is enabled to\n",
            "      exchange a great quantity of his own goods for a great quantity or, what\n",
            "      comes to the same thing, for the price of a great quantity of theirs. He\n",
            "\n",
            "hundred and fortieth, perhaps not the four thousand eight hundredth, part\n",
            "      of what they are at present capable of performing, in consequence of a\n",
            "      proper division and combination of their different operations.\n",
            "    \n",
            "      In every other art and manufacture, the effects of the division of labour\n",
            "      are similar to what they are in this very trifling one, though, in many of\n",
            "      them, the labour can neither be so much subdivided, nor reduced to so\n",
            "      great a simplicity of operation. The division of labour, however, so far\n",
            "      as it can be introduced, occasions, in every art, a proportionable\n",
            "      increase of the productive powers of labour. The separation of different\n",
            "      trades and employments from one another, seems to have taken place in\n",
            "      consequence of this advantage. This separation, too, is generally carried\n",
            "      furthest in those countries which enjoy the highest degree of industry and\n",
            "\n",
            "consequence of this advantage. This separation, too, is generally carried\n",
            "      furthest in those countries which enjoy the highest degree of industry and\n",
            "      improvement; what is the work of one man, in a rude state of society,\n",
            "      being generally that of several in an improved one. In every improved\n",
            "      society, the farmer is generally nothing but a farmer; the manufacturer,\n",
            "      nothing but a manufacturer. The labour, too, which is necessary to produce\n",
            "      any one complete manufacture, is almost always divided among a great\n",
            "      number of hands. How many different trades are employed in each branch of\n",
            "      the linen and woollen manufactures, from the growers of the flax and the\n",
            "      wool, to the bleachers and smoothers of the linen, or to the dyers and\n",
            "      dressers of the cloth! The nature of agriculture, indeed, does not admit\n",
            "      of so many subdivisions of labour, nor of so complete a separation of one\n",
            "\n",
            "invention of all those machines by which labour is so much facilitated and\n",
            "      abridged, seems to have been originally owing to the division of labour.\n",
            "      Men are much more likely to discover easier and readier methods of\n",
            "      attaining any object, when the whole attention of their minds is directed\n",
            "      towards that single object, than when it is dissipated among a great\n",
            "      variety of things. But, in consequence of the division of labour, the\n",
            "      whole of every man’s attention comes naturally to be directed towards some\n",
            "      one very simple object. It is naturally to be expected, therefore, that\n",
            "      some one or other of those who are employed in each particular branch of\n",
            "      labour should soon find out easier and readier methods of performing their\n",
            "      own particular work, whenever the nature of it admits of such improvement.\n",
            "      A great part of the machines made use of in those manufactures in which\n",
            "\n",
            "Question: What are the benefits of specialization and the division of labor?\n",
            "Helpful Answer:\u001b[0m\n",
            "\n",
            "\u001b[1m> Finished chain.\u001b[0m\n",
            "\n",
            "\u001b[1m> Finished chain.\u001b[0m\n",
            "\n",
            "\u001b[1m> Finished chain.\u001b[0m\n"
          ]
        },
        {
          "output_type": "execute_result",
          "data": {
            "text/plain": [
              "{'query': 'What are the benefits of specialization and the division of labor?',\n",
              " 'result': 'The benefits of specialization and the division of labor are: increased dexterity, saves time, more work is done upon the whole, and the quantity of science is considerably increased.'}"
            ]
          },
          "metadata": {},
          "execution_count": 25
        }
      ]
    },
    {
      "cell_type": "code",
      "source": [
        "# OPTIONAL: Stop your milvus server\n",
        "default_server.stop()\n",
        "debug_server.stop()"
      ],
      "metadata": {
        "id": "tNoGf0GBlrj5"
      },
      "execution_count": 16,
      "outputs": []
    }
  ]
}